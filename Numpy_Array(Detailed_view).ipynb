{
 "cells": [
  {
   "cell_type": "code",
   "execution_count": 1,
   "id": "1805410e",
   "metadata": {},
   "outputs": [],
   "source": [
    "import numpy as np\n",
    "\n",
    "# Creating arrays\n",
    "x = np.array([100, 200, 300])\n",
    "y = np.array([100, 800, 900])\n",
    "z = np.array((44, 77, 99))\n",
    "x1 = np.array([[1, 2, 3], [3, 5, 6], [9, 7, 9]])\n",
    "x2 = np.array([[[4, 5, 6], [7, 8, 9], [1, 6, 7]]])\n",
    "z1 = np.array(67)\n",
    "w = np.array([[[1, 3, 4], [3, 5, 6]], [[1, 6, 9], [3, 5, 6]]])\n"
   ]
  },
  {
   "cell_type": "code",
   "execution_count": 2,
   "id": "5f53533f",
   "metadata": {},
   "outputs": [
    {
     "name": "stdout",
     "output_type": "stream",
     "text": [
      "1.26.2\n",
      "1\n",
      "0\n",
      "2\n",
      "3\n"
     ]
    }
   ],
   "source": [
    "# Checking properties\n",
    "print(np.__version__)  # Display NumPy version\n",
    "print(z.ndim)  # Display dimension of z\n",
    "print(z1.ndim)  # Display dimension of z1\n",
    "print(x1.ndim)  # Display dimension of x1\n",
    "print(x2.ndim)  # Display dimension of x2\n"
   ]
  },
  {
   "cell_type": "code",
   "execution_count": 3,
   "id": "a2a9f3d3",
   "metadata": {},
   "outputs": [
    {
     "name": "stdout",
     "output_type": "stream",
     "text": [
      "[44 77 99]\n",
      "99\n",
      "[[1 2 3]\n",
      " [3 5 6]\n",
      " [9 7 9]]\n",
      "7\n",
      "[[[1 3 4]\n",
      "  [3 5 6]]\n",
      "\n",
      " [[1 6 9]\n",
      "  [3 5 6]]]\n",
      "9\n"
     ]
    }
   ],
   "source": [
    "# Accessing elements\n",
    "print(z)  # Display array z\n",
    "print(z[2])  # Display the third element of z\n",
    "print(x1)  # Display array x1\n",
    "print(x1[2, 1])  # Display element at the third row and second column of x1\n",
    "print(w)  # Display array w\n",
    "print(w[1, 0, 2])  # Display element at the second array, first row, and third column of w\n"
   ]
  }
 ],
 "metadata": {
  "kernelspec": {
   "display_name": "Python 3 (ipykernel)",
   "language": "python",
   "name": "python3"
  },
  "language_info": {
   "codemirror_mode": {
    "name": "ipython",
    "version": 3
   },
   "file_extension": ".py",
   "mimetype": "text/x-python",
   "name": "python",
   "nbconvert_exporter": "python",
   "pygments_lexer": "ipython3",
   "version": "3.9.13"
  }
 },
 "nbformat": 4,
 "nbformat_minor": 5
}
